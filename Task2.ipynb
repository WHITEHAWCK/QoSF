{
 "cells": [
  {
   "cell_type": "markdown",
   "metadata": {},
   "source": [
    "## Problem Description\n",
    "\n",
    "The aim is to add and correct bit flip and sign flip errors to a simple quantum circuit (Bell State circuit) which creates $|\\psi\\rangle$ = $\\frac{|00\\rangle + |11\\rangle}{\\sqrt{2}}$. Which implies when we measure the circuit we should get either $|00\\rangle$ or $|11\\rangle$ \n",
    "\n",
    "The **Bit Flip** error flips our qubit from 1 to 0 or vice versa. It is similar as applying a X gate.\n",
    "<br> The **Sign Flip** error affects the phase of the qubit. In essence, it is equivalent to applying a Z gate.\n",
    "\n",
    "We will have a total of 10 qubits which include 2 main qubits and 8 ancillary qubits used for corrections and 2 classical bits for measurement.\n",
    "- To correct bit flip error of 1 qubit we require 2 ancillary qubits. 4 for our circuit.\n",
    "- To correct sign flip error of 1 qubit we require 2 ancillary qubits. 4 for our circuit. "
   ]
  },
  {
   "cell_type": "code",
   "execution_count": null,
   "metadata": {},
   "outputs": [],
   "source": [
    "'''\n",
    "    Required imports\n",
    "'''\n",
    "from qiskit import *\n",
    "from qiskit.visualization import plot_histogram\n",
    "import random\n",
    "import numpy as np\n",
    "import kaleidoscope.qiskit\n",
    "from kaleidoscope import qsphere"
   ]
  },
  {
   "cell_type": "markdown",
   "metadata": {},
   "source": [
    "The library <a href=\"https://nonhermitian.org/kaleido/index.html\">kaleidoscope</a> will be used to plot the states along with their phase.<br>It can be installed using the command `pip install kaleidoscope`"
   ]
  },
  {
   "cell_type": "markdown",
   "metadata": {},
   "source": [
    "### Initial Bell state"
   ]
  },
  {
   "cell_type": "code",
   "execution_count": null,
   "metadata": {},
   "outputs": [],
   "source": [
    "q_bell = QuantumRegister(2, 'qb')\n",
    "c_bell = ClassicalRegister(2, 'cb')\n",
    "bell = QuantumCircuit(q_bell, c_bell)\n",
    "\n",
    "bell.h(q_bell[0])\n",
    "bell.cx(q_bell[0], q_bell[1])\n",
    "bell.measure(q_bell, c_bell)\n",
    "\n",
    "bell.draw(output='mpl')"
   ]
  },
  {
   "cell_type": "markdown",
   "metadata": {},
   "source": [
    "#### Measurement of initial circuit"
   ]
  },
  {
   "cell_type": "code",
   "execution_count": null,
   "metadata": {},
   "outputs": [],
   "source": [
    "qasm_back = Aer.get_backend('qasm_simulator')\n",
    "sv_back = Aer.get_backend('statevector_simulator')"
   ]
  },
  {
   "cell_type": "code",
   "execution_count": null,
   "metadata": {},
   "outputs": [],
   "source": [
    "shots = [100, 200, 500, 1000]\n",
    "bell_res_counts = []\n",
    "for shot in shots:\n",
    "    bell_res = execute(bell, backend=qasm_back, shots = shot).result()\n",
    "    bell_res_counts.append(bell_res.get_counts())\n",
    "bell_res_counts"
   ]
  },
  {
   "cell_type": "code",
   "execution_count": null,
   "metadata": {},
   "outputs": [],
   "source": [
    "legends = []\n",
    "for shot in shots:\n",
    "    legends.append(str(shot) + ' shots')\n",
    "\n",
    "plot_histogram(bell_res_counts, legend = legends)"
   ]
  },
  {
   "cell_type": "markdown",
   "metadata": {},
   "source": [
    "As we can see, the above circuit for Bell State produces the state, <center>$|\\psi\\rangle$ = $\\frac{|00\\rangle + |11\\rangle}{\\sqrt{2}}$ </center>with equal probability of measuring states $|00\\rangle$ and $|11\\rangle$"
   ]
  },
  {
   "cell_type": "markdown",
   "metadata": {},
   "source": [
    "To also get the phase of the state we use the `statevector_simulator` and the library `kaleidoscope` to plot the state with  phase since the inbuilt `plot_state_qsphere` doesn't show the phase of the states properly.\n",
    "\n",
    "The `kaleidoscope` library can be installed via the command `pip install kaleidoscope`"
   ]
  },
  {
   "cell_type": "code",
   "execution_count": null,
   "metadata": {
    "scrolled": true
   },
   "outputs": [],
   "source": [
    "bell_res_sv = {}\n",
    "for shot in shots:\n",
    "    bell_res_sphere = execute(bell, backend=sv_back).result()\n",
    "    bell_res_sv[shot] = bell_res_sphere.get_statevector()\n",
    "bell_res_sv"
   ]
  },
  {
   "cell_type": "code",
   "execution_count": null,
   "metadata": {},
   "outputs": [],
   "source": [
    "qsphere(bell_res_sv[500])"
   ]
  },
  {
   "cell_type": "markdown",
   "metadata": {},
   "source": [
    "### Adding errors"
   ]
  },
  {
   "cell_type": "markdown",
   "metadata": {},
   "source": [
    "Next we will add errors to our qubits.\n",
    "* For bit flip error, we will use `X` gate.\n",
    "* For sign flip error, we will use `Z` gate.\n",
    "* We will use `I` gate to simulate no error."
   ]
  },
  {
   "cell_type": "markdown",
   "metadata": {},
   "source": [
    "The way the error function works is, it takes in the quantum circuit (`qc`), the qubit (`q`) on which the error gate will be applied and a probability (`p`) as the input and based on the probability, it applies a specific gate. The function returns the name of the gate applied which will be used for the legends of the plots we will draw.\n",
    "<br><br> The gates corresponding to the probability (p) are as follows:\n",
    "- p ≤ 0.3 &emsp;&emsp;&emsp;Apply the Z gate\n",
    "- 0.3 < p ≤ 0.6 &ensp;Apply the I gate\n",
    "- p > 0.6 &emsp;&emsp;&emsp;Apply the X gate\n",
    "\n",
    "Since the probability is randomly generated, it will cover all the combinations of error gates for the two qubits"
   ]
  },
  {
   "cell_type": "code",
   "execution_count": null,
   "metadata": {},
   "outputs": [],
   "source": [
    "'''\n",
    "    Function for introducing errors\n",
    "    qc - our quantum circuit\n",
    "    q - qubit to which error gate will be applied\n",
    "    p - probability for applying a certain gate\n",
    "    show - boolean flag to see the probability and gates applied\n",
    "'''\n",
    "\n",
    "def error(qc, q, p, show=True):\n",
    "    gate = ''\n",
    "    if(show):\n",
    "        print(\"Probability value: \", p)\n",
    "    if p <= 0.3: #apply the Z gate\n",
    "        qc.z(q)\n",
    "        if(show):\n",
    "            print(\"Applied Z gate\")\n",
    "        gate = 'Z'\n",
    "    elif p > 0.3 and p <= 0.6: #apply the I gate\n",
    "        qc.i(q)\n",
    "        if(show):\n",
    "            print(\"Applied I gate\")\n",
    "        gate = 'I'\n",
    "    else: #apply the X gate\n",
    "        qc.x(q)\n",
    "        if(show):\n",
    "            print(\"Applied X gate\")\n",
    "        gate = 'X'\n",
    "    return gate"
   ]
  },
  {
   "cell_type": "markdown",
   "metadata": {},
   "source": [
    "Now, to check whether the `error` function works correctly, lets make the above Bell State circuit with error and take measurements."
   ]
  },
  {
   "cell_type": "code",
   "execution_count": null,
   "metadata": {},
   "outputs": [],
   "source": [
    "# initialisation\n",
    "q_chk = QuantumRegister(2, 'q_chk')\n",
    "c_chk = ClassicalRegister(2, 'c_chk')\n",
    "qc_chk = QuantumCircuit(q_chk, c_chk)\n",
    "\n",
    "qc_chk.h(q_chk[0])\n",
    "qc_chk.barrier()\n",
    "\n",
    "# adding error\n",
    "# choosing probability for qubit 0\n",
    "p = random.random()\n",
    "error(qc_chk, q_chk[0], p)\n",
    "\n",
    "# choosing probability for qubit 1\n",
    "p = random.random()\n",
    "error(qc_chk, q_chk[1], p)\n",
    "qc_chk.barrier()\n",
    "\n",
    "# remaining given circuit\n",
    "qc_chk.cx(q_chk[0], q_chk[1])\n",
    "qc_chk.barrier()\n",
    "\n",
    "qc_chk.measure(q_chk, c_chk)\n",
    "\n",
    "qc_chk.draw(output='mpl', justify='right')"
   ]
  },
  {
   "cell_type": "markdown",
   "metadata": {},
   "source": [
    "We will execute the above circuit for, say 5 times, to check different outcomes of adding error"
   ]
  },
  {
   "cell_type": "code",
   "execution_count": null,
   "metadata": {},
   "outputs": [],
   "source": [
    "times = 5\n",
    "check_res_counts = []\n",
    "check_res_sv = []\n",
    "gates = {}\n",
    "\n",
    "for i in range(times):\n",
    "    applied_gate = ''\n",
    "    # initialisation\n",
    "    q_chk = QuantumRegister(2, 'q_chk')\n",
    "    c_chk = ClassicalRegister(2, 'c_chk')\n",
    "    qc_chk = QuantumCircuit(q_chk, c_chk)\n",
    "\n",
    "    qc_chk.h(q_chk[0])\n",
    "    qc_chk.barrier()\n",
    "\n",
    "    # adding error\n",
    "    # choosing probability for qubit 0\n",
    "    p = random.random()\n",
    "    applied_gate += error(qc_chk, q_chk[0], p)\n",
    "\n",
    "    # choosing probability for qubit 1\n",
    "    p = random.random()\n",
    "    applied_gate += error(qc_chk, q_chk[1], p)\n",
    "    gates[i] = applied_gate\n",
    "    qc_chk.barrier()\n",
    "\n",
    "    # remaining given circuit\n",
    "    qc_chk.cx(q_chk[0], q_chk[1])\n",
    "    qc_chk.barrier()\n",
    "\n",
    "    qc_chk.measure(q_chk, c_chk)\n",
    "\n",
    "    qc_chk.draw(output='mpl', justify='right')\n",
    "    \n",
    "    check_res = execute(qc_chk, backend=qasm_back).result()\n",
    "    check_res_counts.append(check_res.get_counts())\n",
    "    \n",
    "    check_sv = execute(qc_chk, backend=sv_back).result().get_statevector()\n",
    "    check_res_sv.append(check_sv)\n",
    "check_res_counts"
   ]
  },
  {
   "cell_type": "code",
   "execution_count": null,
   "metadata": {
    "scrolled": true
   },
   "outputs": [],
   "source": [
    "legend = []\n",
    "for i in range(times):\n",
    "    legend.append(gates[i])\n",
    "\n",
    "plot_histogram(check_res_counts, legend = legend, figsize = (15, 5))"
   ]
  },
  {
   "cell_type": "markdown",
   "metadata": {},
   "source": [
    "We can see from the above plot that our bit flip error is working correctly! Now to see sign flip error, we will plot the qspheres of the above measurements."
   ]
  },
  {
   "cell_type": "code",
   "execution_count": null,
   "metadata": {},
   "outputs": [],
   "source": [
    "qsphere(check_res_sv[0])"
   ]
  },
  {
   "cell_type": "code",
   "execution_count": null,
   "metadata": {},
   "outputs": [],
   "source": [
    "qsphere(check_res_sv[1])"
   ]
  },
  {
   "cell_type": "code",
   "execution_count": null,
   "metadata": {},
   "outputs": [],
   "source": [
    "qsphere(check_res_sv[2])"
   ]
  },
  {
   "cell_type": "code",
   "execution_count": null,
   "metadata": {},
   "outputs": [],
   "source": [
    "qsphere(check_res_sv[3])"
   ]
  },
  {
   "cell_type": "code",
   "execution_count": null,
   "metadata": {},
   "outputs": [],
   "source": [
    "qsphere(check_res_sv[4])"
   ]
  },
  {
   "cell_type": "markdown",
   "metadata": {},
   "source": [
    "From the above plots we can see that the sign flip error works as intended!"
   ]
  },
  {
   "cell_type": "markdown",
   "metadata": {},
   "source": [
    "Now, let's correct the errors!!"
   ]
  },
  {
   "cell_type": "code",
   "execution_count": null,
   "metadata": {},
   "outputs": [],
   "source": [
    "# initialisation\n",
    "q = QuantumRegister(2, 'q')\n",
    "anci_bit = QuantumRegister(4, 'anci_bit')\n",
    "anci_sign = QuantumRegister(4, 'anci_sign')\n",
    "c = ClassicalRegister(2, 'c')\n",
    "qc = QuantumCircuit(q, anci_bit, anci_sign, c)\n",
    "\n",
    "qc.h(q[0])\n",
    "qc.barrier()\n",
    "\n",
    "# transferring initial state of the qubits to ancillary qubits for sign flip correction\n",
    "qc.cx(q[0], anci_sign[0])\n",
    "qc.cx(q[0], anci_sign[1])\n",
    "\n",
    "qc.cx(q[1], anci_sign[2])\n",
    "qc.cx(q[1], anci_sign[3])\n",
    "qc.h([q[0], anci_sign[0], anci_sign[1]])\n",
    "qc.h([q[1], anci_sign[2], anci_sign[3]])\n",
    "qc.barrier()\n",
    "\n",
    "# transferring initial state of the qubits to ancillary qubits for bit flip correction\n",
    "qc.cx(q[0], anci_bit[0])\n",
    "qc.cx(q[0], anci_bit[1])\n",
    "\n",
    "qc.cx(q[1], anci_bit[2])\n",
    "qc.cx(q[1], anci_bit[3])\n",
    "qc.barrier()\n",
    "\n",
    "# adding error\n",
    "# choosing probability for qubit 0\n",
    "p = random.random()\n",
    "error(qc, q[0], p)\n",
    "\n",
    "# choosing probability for qubit 1\n",
    "p = random.random()\n",
    "error(qc, q[1], p)\n",
    "qc.barrier()\n",
    "\n",
    "# correcting bit flip\n",
    "# for qubit 0\n",
    "qc.cx(q[0], anci_bit[0])\n",
    "qc.cx(q[0], anci_bit[1])\n",
    "qc.ccx(anci_bit[0], anci_bit[1], q[0])\n",
    "\n",
    "# for qubit 1\n",
    "qc.cx(q[1], anci_bit[2])\n",
    "qc.cx(q[1], anci_bit[3])\n",
    "qc.ccx(anci_bit[2], anci_bit[3], q[1])\n",
    "qc.barrier()\n",
    "\n",
    "# correcting phase flip\n",
    "# for qubit 0\n",
    "qc.h([q[0], anci_sign[0], anci_sign[1]])\n",
    "qc.h([q[1], anci_sign[2], anci_sign[3]])\n",
    "qc.cx(q[0], anci_sign[0])\n",
    "qc.cx(q[0], anci_sign[1])\n",
    "qc.ccx(anci_sign[0], anci_sign[1], q[0])\n",
    "qc.barrier()\n",
    "\n",
    "# for qubit 1\n",
    "qc.cx(q[1], anci_sign[2])\n",
    "qc.cx(q[1], anci_sign[3])\n",
    "qc.ccx(anci_sign[2], anci_sign[3], q[1])\n",
    "qc.barrier()\n",
    "\n",
    "# remaining given circuit\n",
    "qc.cx(q[0], q[1])\n",
    "qc.barrier()\n",
    "\n",
    "qc.measure(q, c)\n",
    "\n",
    "qc.draw(output='mpl', justify='right')"
   ]
  },
  {
   "cell_type": "code",
   "execution_count": null,
   "metadata": {},
   "outputs": [],
   "source": [
    "shots = [100, 200, 500, 1000]\n",
    "counts = []\n",
    "sv_counts = {}\n",
    "\n",
    "for shot in shots:\n",
    "    result = execute(qc, backend=qasm_back, shots = shot).result()\n",
    "    counts.append(result.get_counts())\n",
    "    res_sv = execute(qc, backend=sv_back, shots = shot).result()\n",
    "    sv_counts[shot] = res_sv.get_statevector()"
   ]
  },
  {
   "cell_type": "code",
   "execution_count": null,
   "metadata": {},
   "outputs": [],
   "source": [
    "legends = []\n",
    "for shot in shots:\n",
    "    legends.append(str(shot) + ' shots')\n",
    "\n",
    "plot_histogram(counts, legend = legends)"
   ]
  },
  {
   "cell_type": "markdown",
   "metadata": {},
   "source": [
    "From the below plots, we can see that after correcting errors, all our final states have a phase of 0&deg;"
   ]
  },
  {
   "cell_type": "code",
   "execution_count": null,
   "metadata": {},
   "outputs": [],
   "source": [
    "qsphere(sv_counts[100])"
   ]
  },
  {
   "cell_type": "code",
   "execution_count": null,
   "metadata": {},
   "outputs": [],
   "source": [
    "qsphere(sv_counts[200])"
   ]
  },
  {
   "cell_type": "code",
   "execution_count": null,
   "metadata": {},
   "outputs": [],
   "source": [
    "qsphere(sv_counts[500])"
   ]
  },
  {
   "cell_type": "code",
   "execution_count": null,
   "metadata": {},
   "outputs": [],
   "source": [
    "qsphere(sv_counts[1000])"
   ]
  },
  {
   "cell_type": "markdown",
   "metadata": {},
   "source": [
    "We can see from above, we get the desired output of the equal superposition state, <center>$|\\psi\\rangle$ = $\\frac{|00\\rangle + |11\\rangle}{\\sqrt{2}}$</center> after adding and correcting bit flip and sign flip errors."
   ]
  },
  {
   "cell_type": "markdown",
   "metadata": {},
   "source": [
    "Above we took measurements with different number of shots and the error gates were chosen by using random probability. Now let's check for all the different combinations of error and see whether our circuit can correct them."
   ]
  },
  {
   "cell_type": "code",
   "execution_count": null,
   "metadata": {},
   "outputs": [],
   "source": [
    "prob_vals = [0.2, 0.4, 0.8] # fixed probabilities for Z, I, X gates respectively\n",
    "\n",
    "comb_counts = []\n",
    "comb_sv_counts = {}\n",
    "i = 0\n",
    "for p0 in prob_vals:\n",
    "    for p1 in prob_vals:\n",
    "        # initialisation\n",
    "        comb_q = QuantumRegister(2, 'q')\n",
    "        comb_anci_bit = QuantumRegister(4, 'anci_bit')\n",
    "        comb_anci_sign = QuantumRegister(4, 'anci_sign')\n",
    "        comb_c = ClassicalRegister(2, 'c')\n",
    "        comb_qc = QuantumCircuit(comb_q, comb_anci_bit, comb_anci_sign, comb_c)\n",
    "\n",
    "        comb_qc.h(comb_q[0])\n",
    "        comb_qc.barrier()\n",
    "\n",
    "        # transferring initial state of the qubits to ancillary qubits for sign flip correction\n",
    "        comb_qc.cx(comb_q[0], comb_anci_sign[0])\n",
    "        comb_qc.cx(comb_q[0], comb_anci_sign[1])\n",
    "\n",
    "        comb_qc.cx(comb_q[1], comb_anci_sign[2])\n",
    "        comb_qc.cx(comb_q[1], comb_anci_sign[3])\n",
    "        comb_qc.h([comb_q[0], comb_anci_sign[0], comb_anci_sign[1]])\n",
    "        comb_qc.h([comb_q[1], comb_anci_sign[2], comb_anci_sign[3]])\n",
    "        comb_qc.barrier()\n",
    "\n",
    "        # transferring initial state of the qubits to ancillary qubits for bit flip correction\n",
    "        comb_qc.cx(comb_q[0], comb_anci_bit[0])\n",
    "        comb_qc.cx(comb_q[0], comb_anci_bit[1])\n",
    "\n",
    "        comb_qc.cx(comb_q[1], comb_anci_bit[2])\n",
    "        comb_qc.cx(comb_q[1], comb_anci_bit[3])\n",
    "        comb_qc.barrier()\n",
    "\n",
    "        # adding error\n",
    "        # choosing probability for qubit 0\n",
    "        error(comb_qc, comb_q[0], p0)\n",
    "\n",
    "        # choosing probability for qubit 1\n",
    "        error(comb_qc, comb_q[1], p1)\n",
    "        comb_qc.barrier()\n",
    "\n",
    "        # correcting bit flip\n",
    "        # for qubit 0\n",
    "        comb_qc.cx(comb_q[0], comb_anci_bit[0])\n",
    "        comb_qc.cx(comb_q[0], comb_anci_bit[1])\n",
    "        comb_qc.ccx(comb_anci_bit[0], comb_anci_bit[1], comb_q[0])\n",
    "\n",
    "        # for qubit 1\n",
    "        comb_qc.cx(comb_q[1], comb_anci_bit[2])\n",
    "        comb_qc.cx(comb_q[1], comb_anci_bit[3])\n",
    "        comb_qc.ccx(comb_anci_bit[2], comb_anci_bit[3], comb_q[1])\n",
    "        comb_qc.barrier()\n",
    "\n",
    "        # correcting phase flip\n",
    "        # for qubit 0\n",
    "        comb_qc.h([comb_q[0], comb_anci_sign[0], comb_anci_sign[1]])\n",
    "        comb_qc.h([comb_q[1], comb_anci_sign[2], comb_anci_sign[3]])\n",
    "        comb_qc.cx(comb_q[0], comb_anci_sign[0])\n",
    "        comb_qc.cx(comb_q[0], comb_anci_sign[1])\n",
    "        comb_qc.ccx(comb_anci_sign[0], comb_anci_sign[1], comb_q[0])\n",
    "        comb_qc.barrier()\n",
    "\n",
    "        # for qubit 1\n",
    "        comb_qc.cx(comb_q[1], comb_anci_sign[2])\n",
    "        comb_qc.cx(comb_q[1], comb_anci_sign[3])\n",
    "        comb_qc.ccx(comb_anci_sign[2], comb_anci_sign[3], comb_q[1])\n",
    "        comb_qc.barrier()\n",
    "\n",
    "        # remaining given circuit\n",
    "        comb_qc.cx(comb_q[0], comb_q[1])\n",
    "        comb_qc.barrier()\n",
    "\n",
    "        comb_qc.measure(comb_q, comb_c)        \n",
    "        \n",
    "        comb_counts.append(execute(comb_qc, backend=qasm_back).result().get_counts())\n",
    "        comb_sv_counts[i] = execute(comb_qc, backend=sv_back).result().get_statevector()\n",
    "        \n",
    "        i += 1\n",
    "\n",
    "comb_counts"
   ]
  },
  {
   "cell_type": "code",
   "execution_count": null,
   "metadata": {},
   "outputs": [],
   "source": [
    "legend = []\n",
    "for i in \"ZIX\":\n",
    "    for j in \"ZIX\":\n",
    "        legend.append(i+j)\n",
    "\n",
    "plot_histogram(comb_counts, legend=legend, figsize=(16, 6))"
   ]
  },
  {
   "cell_type": "markdown",
   "metadata": {},
   "source": [
    "Below we can see the phase of the states after measurement and check whether they align with our expected phase."
   ]
  },
  {
   "cell_type": "code",
   "execution_count": null,
   "metadata": {},
   "outputs": [],
   "source": [
    "qsphere(comb_sv_counts[0])"
   ]
  },
  {
   "cell_type": "code",
   "execution_count": null,
   "metadata": {},
   "outputs": [],
   "source": [
    "qsphere(comb_sv_counts[1])"
   ]
  },
  {
   "cell_type": "code",
   "execution_count": null,
   "metadata": {},
   "outputs": [],
   "source": [
    "qsphere(comb_sv_counts[2])"
   ]
  },
  {
   "cell_type": "code",
   "execution_count": null,
   "metadata": {},
   "outputs": [],
   "source": [
    "qsphere(comb_sv_counts[3])"
   ]
  },
  {
   "cell_type": "code",
   "execution_count": null,
   "metadata": {},
   "outputs": [],
   "source": [
    "qsphere(comb_sv_counts[4])"
   ]
  },
  {
   "cell_type": "code",
   "execution_count": null,
   "metadata": {},
   "outputs": [],
   "source": [
    "qsphere(comb_sv_counts[5])"
   ]
  },
  {
   "cell_type": "code",
   "execution_count": null,
   "metadata": {},
   "outputs": [],
   "source": [
    "qsphere(comb_sv_counts[6])"
   ]
  },
  {
   "cell_type": "code",
   "execution_count": null,
   "metadata": {},
   "outputs": [],
   "source": [
    "qsphere(comb_sv_counts[7])"
   ]
  },
  {
   "cell_type": "code",
   "execution_count": null,
   "metadata": {},
   "outputs": [],
   "source": [
    "qsphere(comb_sv_counts[8])"
   ]
  },
  {
   "cell_type": "markdown",
   "metadata": {},
   "source": [
    "We can see that our circuit corrects all the different possible combinations of errors!"
   ]
  },
  {
   "cell_type": "markdown",
   "metadata": {},
   "source": [
    "In essence the circuit looks something like this-\n",
    "1. Transfer for bit flip correction\n",
    "2. Transfer for sign flip correction\n",
    "3. Apply error\n",
    "4. Correct bit flip\n",
    "5. Correct sign flip\n",
    "7. Measurement"
   ]
  },
  {
   "cell_type": "code",
   "execution_count": null,
   "metadata": {},
   "outputs": [],
   "source": [
    "def bit_transfer(q, anci_bit):\n",
    "    fin_b = QuantumCircuit(q, anci_bit, name='transfer for\\nbit correction')\n",
    "    \n",
    "    fin_b.cx(q[0], anci_bit[0])\n",
    "    fin_b.cx(q[0], anci_bit[1])\n",
    "\n",
    "    fin_b.cx(q[1], anci_bit[2])\n",
    "    fin_b.cx(q[1], anci_bit[3])\n",
    "    \n",
    "    return fin_b"
   ]
  },
  {
   "cell_type": "code",
   "execution_count": null,
   "metadata": {},
   "outputs": [],
   "source": [
    "def sign_transfer(q, anci_sign):\n",
    "    fin_s = QuantumCircuit(q, anci_sign, name='transfer for\\nsign correction')\n",
    "    \n",
    "    fin_s.cx(q[0], anci_sign[0])\n",
    "    fin_s.cx(q[0], anci_sign[1])\n",
    "\n",
    "    fin_s.cx(q[1], anci_sign[2])\n",
    "    fin_s.cx(q[1], anci_sign[3])\n",
    "    fin_s.h([q[0], anci_sign[0], anci_sign[1]])\n",
    "    fin_s.h([q[1], anci_sign[2], anci_sign[3]])\n",
    "    \n",
    "    return fin_s"
   ]
  },
  {
   "cell_type": "code",
   "execution_count": null,
   "metadata": {},
   "outputs": [],
   "source": [
    "def add_error(q):\n",
    "    fin_e = QuantumCircuit(q, name='add\\nerror')\n",
    "    \n",
    "    # choosing probability for qubit 0\n",
    "    p = random.random()\n",
    "    error(fin_e, q[0], p, False)\n",
    "\n",
    "    # choosing probability for qubit 1\n",
    "    p = random.random()\n",
    "    error(fin_e, q[1], p, False)\n",
    "    \n",
    "    return fin_e"
   ]
  },
  {
   "cell_type": "code",
   "execution_count": null,
   "metadata": {},
   "outputs": [],
   "source": [
    "def fix_bit(q, anci_bit):\n",
    "    fin_fix_b = QuantumCircuit(q, anci_bit, name='fixing bit\\nerror')\n",
    "    \n",
    "    # for qubit 0\n",
    "    fin_fix_b.cx(q[0], anci_bit[0])\n",
    "    fin_fix_b.cx(q[0], anci_bit[1])\n",
    "    fin_fix_b.ccx(anci_bit[0], anci_bit[1], q[0])\n",
    "\n",
    "    # for qubit 1\n",
    "    fin_fix_b.cx(q[1], anci_bit[2])\n",
    "    fin_fix_b.cx(q[1], anci_bit[3])\n",
    "    fin_fix_b.ccx(anci_bit[2], anci_bit[3], q[1])\n",
    "    \n",
    "    return fin_fix_b"
   ]
  },
  {
   "cell_type": "code",
   "execution_count": null,
   "metadata": {},
   "outputs": [],
   "source": [
    "def fix_sign(q, anci_sign):\n",
    "    fin_fix_s = QuantumCircuit(q, anci_sign, name='fixing sign\\nerror')\n",
    "    \n",
    "    # for qubit 0\n",
    "    fin_fix_s.h([q[0], anci_sign[0], anci_sign[1]])\n",
    "    fin_fix_s.cx(q[0], anci_sign[0])\n",
    "    fin_fix_s.cx(q[0], anci_sign[1])\n",
    "    fin_fix_s.ccx(anci_sign[0], anci_sign[1], q[0])\n",
    "\n",
    "    # for qubit 1\n",
    "    fin_fix_s.h([q[1], anci_sign[2], anci_sign[3]])\n",
    "    fin_fix_s.cx(q[1], anci_sign[2])\n",
    "    fin_fix_s.cx(q[1], anci_sign[3])\n",
    "    fin_fix_s.ccx(anci_sign[2], anci_sign[3], q[1])\n",
    "    \n",
    "    return fin_fix_s"
   ]
  },
  {
   "cell_type": "code",
   "execution_count": null,
   "metadata": {},
   "outputs": [],
   "source": [
    "# initialisation\n",
    "fin_q = QuantumRegister(2, 'q')\n",
    "fin_anci_bit = QuantumRegister(4, 'anci_bit')\n",
    "fin_anci_sign = QuantumRegister(4, 'anci_sign')\n",
    "fin_c = ClassicalRegister(2, 'c')\n",
    "fin_qc = QuantumCircuit(q, anci_bit, anci_sign, c)\n",
    "\n",
    "fin_qc.h(q[0])\n",
    "\n",
    "# transferring initial state of the qubits to ancillary qubits for bit flip correction\n",
    "fin_qc.append(bit_transfer(fin_q, fin_anci_bit), [0,1, 2,3,4,5])\n",
    "\n",
    "# transferring initial state of the qubits to ancillary qubits for sign flip correction\n",
    "fin_qc.append(sign_transfer(fin_q, fin_anci_sign), [0,1, 6,7,8,9])\n",
    "\n",
    "# adding error\n",
    "fin_qc.append(add_error(fin_q), [0,1])\n",
    "\n",
    "# correcting bit flip\n",
    "fin_qc.append(fix_bit(fin_q, fin_anci_bit), [0,1, 2,3,4,5])\n",
    "\n",
    "# correcting sign flip\n",
    "fin_qc.append(fix_sign(fin_q, fin_anci_sign), [0,1, 6,7,8,9])\n",
    "\n",
    "# remaining given circuit\n",
    "fin_qc.cx(fin_q[0], fin_q[1])\n",
    "\n",
    "fin_qc.measure(fin_q, fin_c)\n",
    "\n",
    "fin_qc.draw(output='mpl')"
   ]
  },
  {
   "cell_type": "code",
   "execution_count": null,
   "metadata": {},
   "outputs": [],
   "source": []
  },
  {
   "cell_type": "code",
   "execution_count": null,
   "metadata": {},
   "outputs": [],
   "source": []
  }
 ],
 "metadata": {
  "kernelspec": {
   "display_name": "Python 3",
   "language": "python",
   "name": "python3"
  },
  "language_info": {
   "codemirror_mode": {
    "name": "ipython",
    "version": 3
   },
   "file_extension": ".py",
   "mimetype": "text/x-python",
   "name": "python",
   "nbconvert_exporter": "python",
   "pygments_lexer": "ipython3",
   "version": "3.7.9"
  }
 },
 "nbformat": 4,
 "nbformat_minor": 4
}
